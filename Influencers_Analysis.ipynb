{
  "cells": [
    {
      "cell_type": "markdown",
      "id": "c4a84c31",
      "metadata": {
        "id": "c4a84c31"
      },
      "source": [
        "# Influenciadores ⚡\n",
        "\n",
        "Análise e insights sobre influenciadores utilizando modelos de análise de sentimento e gráficos visualmente aprimorados."
      ]
    },
    {
      "cell_type": "markdown",
      "id": "6a8ff88a",
      "metadata": {
        "id": "6a8ff88a"
      },
      "source": [
        "## Importação de Bibliotecas 📚\n",
        "\n",
        "Nesta seção, importamos as bibliotecas necessárias para análise."
      ]
    },
    {
      "cell_type": "code",
      "execution_count": null,
      "id": "88274fa3",
      "metadata": {
        "id": "88274fa3"
      },
      "outputs": [],
      "source": [
        "\n",
        "# Importação de bibliotecas\n",
        "import pandas as pd\n",
        "import matplotlib.pyplot as plt\n",
        "import seaborn as sns\n",
        "from transformers import pipeline\n",
        "\n",
        "# Configuração global para gráficos\n",
        "plt.style.use('ggplot')\n"
      ]
    },
    {
      "cell_type": "markdown",
      "id": "87123e42",
      "metadata": {
        "id": "87123e42"
      },
      "source": [
        "## Carregamento de Dados 📥\n",
        "\n",
        "Carregamos o arquivo CSV com os dados dos influenciadores."
      ]
    },
    {
      "cell_type": "code",
      "execution_count": null,
      "id": "2ae59e28",
      "metadata": {
        "id": "2ae59e28"
      },
      "outputs": [],
      "source": [
        "\n",
        "# Carregar os dados\n",
        "file_path = '/content/influenciadores.csv'\n",
        "try:\n",
        "    data = pd.read_csv(file_path)\n",
        "    print(f\"✅ Dados carregados com sucesso: {data.shape[0]} linhas e {data.shape[1]} colunas.\")\n",
        "except FileNotFoundError:\n",
        "    print(f\"❌ Arquivo não encontrado em {file_path}. Verifique o caminho.\")\n"
      ]
    },
    {
      "cell_type": "markdown",
      "source": [
        "##  remover duplicados"
      ],
      "metadata": {
        "id": "x_-Z3Kjor2X9"
      },
      "id": "x_-Z3Kjor2X9"
    },
    {
      "cell_type": "code",
      "source": [
        "# Remover duplicados com base na coluna 'Qual o @ (identifica a rede)'\n",
        "data = data.drop_duplicates(subset=['Qual o @ (identifica a rede)'])\n",
        "\n",
        "# Exibir o número de linhas restantes\n",
        "print(f\"Dados restantes após remoção de duplicados: {data.shape[0]} linhas.\")"
      ],
      "metadata": {
        "id": "sD2gyYiwr0ZZ"
      },
      "id": "sD2gyYiwr0ZZ",
      "execution_count": null,
      "outputs": []
    },
    {
      "cell_type": "markdown",
      "id": "60c8b78d",
      "metadata": {
        "id": "60c8b78d"
      },
      "source": [
        "## Visualização de Dados 🔍\n",
        "\n",
        "Examinamos os dados com gráficos iniciais para identificar tendências."
      ]
    },
    {
      "cell_type": "code",
      "execution_count": null,
      "id": "49c977cc",
      "metadata": {
        "id": "49c977cc"
      },
      "outputs": [],
      "source": [
        "# Gráfico de barras: distribuição de notas dos influenciadores\n",
        "plt.figure(figsize=(12, 8))\n",
        "\n",
        "# Calculando distribuição percentual e ordenando\n",
        "distribution = data['Qual a nota desse influ?'].value_counts(normalize=True).sort_index()\n",
        "\n",
        "# Configurando cores para cada barra\n",
        "colors = plt.cm.tab10(range(len(distribution)))\n",
        "\n",
        "# Gerar o gráfico\n",
        "distribution.plot(kind='bar', color=colors, edgecolor='black')\n",
        "\n",
        "# Adicionar rótulos e título\n",
        "plt.title('Distribuição de Notas dos Influenciadores (em %)', fontsize=16)\n",
        "plt.xlabel('Nota', fontsize=14)\n",
        "plt.ylabel('Frequência (%)', fontsize=14)\n",
        "\n",
        "# Adicionar rótulos percentuais em cada barra\n",
        "for index, value in enumerate(distribution):\n",
        "    plt.text(index, value, f'{value*100:.1f}%', ha='center', va='bottom', fontsize=12)\n",
        "\n",
        "plt.xticks(rotation=0, fontsize=12)\n",
        "plt.yticks(fontsize=12)\n",
        "plt.tight_layout()\n",
        "plt.show()\n"
      ]
    },
    {
      "cell_type": "markdown",
      "id": "72552ee7",
      "metadata": {
        "id": "72552ee7"
      },
      "source": [
        "## Análise de Sentimento 💬\n",
        "\n",
        "Utilizamos o modelo `bert-base-multilingual` para classificar sentimentos nos textos."
      ]
    },
    {
      "cell_type": "code",
      "execution_count": null,
      "id": "58bf2f42",
      "metadata": {
        "id": "58bf2f42"
      },
      "outputs": [],
      "source": [
        "\n",
        "# Configurar análise de sentimento\n",
        "sentiment_analyzer = pipeline(\"sentiment-analysis\", model=\"nlptown/bert-base-multilingual-uncased-sentiment\")\n",
        "\n",
        "# Exemplo de análise\n",
        "sample_text = \"A colaboração foi um sucesso, muito muito boa!\"\n",
        "result = sentiment_analyzer(sample_text)\n",
        "print(f\"Texto: {sample_text}\")\n",
        "print(f\"Sentimento: {result[0]['label']}, Confiança: {result[0]['score']:.2f}\")\n"
      ]
    },
    {
      "cell_type": "markdown",
      "source": [
        "Adicionar coluna sentiment_score com NLP 💬"
      ],
      "metadata": {
        "id": "lU2DPEoqs1pI"
      },
      "id": "lU2DPEoqs1pI"
    },
    {
      "cell_type": "code",
      "source": [
        "from transformers import pipeline\n",
        "\n",
        "# Configurar o pipeline de análise de sentimentos\n",
        "sentiment_analyzer = pipeline(\"sentiment-analysis\")\n",
        "\n",
        "# Criar as colunas 'sentiment_score' e 'sentiment_confidence' com neutro\n",
        "def analyze_sentiment_with_neutral(text):\n",
        "    # Garantir que o texto seja string e truncar para evitar problemas com textos longos\n",
        "    truncated_text = str(text)[:512]  # Limitar o texto a 512 caracteres\n",
        "    result = sentiment_analyzer(truncated_text)[0]\n",
        "    label = result['label']\n",
        "    score = result['score']\n",
        "\n",
        "    # Incluir a categoria neutra com base na confiança\n",
        "    if score < 0.6:  # Threshold de confiança para considerar neutro\n",
        "        sentiment_score = 0  # Neutro\n",
        "    else:\n",
        "        sentiment_score = 1 if label in ['POSITIVE', '5 stars'] else -1 if label in ['NEGATIVE', '1 star'] else 0\n",
        "    return sentiment_score, score\n",
        "\n",
        "# Garantir que os textos na coluna são strings\n",
        "data['Como foi trabalhar com esse influ?'] = data['Como foi trabalhar com esse influ?'].fillna(\"Sem comentário\").astype(str)\n",
        "\n",
        "# Aplicar a análise de sentimento na coluna\n",
        "data[['sentiment_score', 'sentiment_confidence']] = data['Como foi trabalhar com esse influ?'].apply(\n",
        "    lambda x: pd.Series(analyze_sentiment_with_neutral(x))\n",
        ")\n"
      ],
      "metadata": {
        "id": "Op1AmW5nsrsO"
      },
      "id": "Op1AmW5nsrsO",
      "execution_count": null,
      "outputs": []
    },
    {
      "cell_type": "code",
      "source": [
        "test_texts = [\"Foi ótimo trabalhar com este influenciador!\", \"Não gostei de trabalhar com este influenciador.\"]\n",
        "for text in test_texts:\n",
        "    result = sentiment_analyzer(text)\n",
        "    print(f\"Texto: {text}\")\n",
        "    print(f\"Resultado do NLP: {result}\")"
      ],
      "metadata": {
        "id": "JxXAgb7cu9rk"
      },
      "id": "JxXAgb7cu9rk",
      "execution_count": null,
      "outputs": []
    },
    {
      "cell_type": "markdown",
      "source": [
        "# Contar avaliações positivas, negativas e neutras 📊"
      ],
      "metadata": {
        "id": "3rZqs9U0s8U7"
      },
      "id": "3rZqs9U0s8U7"
    },
    {
      "cell_type": "code",
      "source": [
        "# Contar o número de avaliações positivas, negativas e neutras\n",
        "if 'sentiment_score' in data.columns:\n",
        "    # Contar a frequência de cada tipo de sentimento\n",
        "    sentiment_counts = data['sentiment_score'].value_counts()\n",
        "\n",
        "    # Calcular o total de sentimentos\n",
        "    total_sentiments = sentiment_counts.sum()\n",
        "\n",
        "    # Exibir as contagens e as porcentagens\n",
        "    print(\"📈 Distribuição de Sentimentos:\")\n",
        "    print(f\"✅ Positivas: {sentiment_counts.get(1, 0)} ({(sentiment_counts.get(1, 0) / total_sentiments * 100):.2f}%)\")\n",
        "    print(f\"❌ Negativas: {sentiment_counts.get(-1, 0)} ({(sentiment_counts.get(-1, 0) / total_sentiments * 100):.2f}%)\")\n",
        "    print(f\"⚖️  Neutras: {sentiment_counts.get(0, 0)} ({(sentiment_counts.get(0, 0) / total_sentiments * 100):.2f}%)\")\n",
        "else:\n",
        "    print(\"⚠️ A coluna 'sentiment_score' não foi encontrada no dataset. Execute a célula anterior primeiro.\")\n"
      ],
      "metadata": {
        "id": "ryOvGqN1s72p"
      },
      "id": "ryOvGqN1s72p",
      "execution_count": null,
      "outputs": []
    },
    {
      "cell_type": "markdown",
      "source": [
        "Comparar NLP com notas dos influenciadores ⭐"
      ],
      "metadata": {
        "id": "mZWoxwFrs_cS"
      },
      "id": "mZWoxwFrs_cS"
    },
    {
      "cell_type": "markdown",
      "id": "56b8a18e",
      "metadata": {
        "id": "56b8a18e"
      },
      "source": [
        "## Correlações e Insights 📊\n",
        "\n",
        "Examinamos relações entre métricas importantes para identificar padrões."
      ]
    },
    {
      "cell_type": "markdown",
      "source": [
        "📊 Comparação entre Notas e Sentimentos:"
      ],
      "metadata": {
        "id": "r2K8s__rDiKk"
      },
      "id": "r2K8s__rDiKk"
    },
    {
      "cell_type": "code",
      "execution_count": null,
      "id": "dbe699b3",
      "metadata": {
        "id": "dbe699b3"
      },
      "outputs": [],
      "source": [
        "# Comparar notas numéricas com os sentimentos gerados pelo NLP\n",
        "if 'sentiment_score' in data.columns and 'Qual a nota desse influ?' in data.columns:\n",
        "    try:\n",
        "        # Garantir que a coluna 'Qual a nota desse influ?' seja numérica\n",
        "        data['Qual a nota desse influ?'] = pd.to_numeric(data['Qual a nota desse influ?'], errors='coerce')\n",
        "\n",
        "        # Remover valores NaN gerados pela conversão\n",
        "        valid_data = data.dropna(subset=['sentiment_score', 'Qual a nota desse influ?'])\n",
        "\n",
        "        # Classificar notas em relação aos sentimentos\n",
        "        positive_notes = valid_data[valid_data['sentiment_score'] > 0.5]['Qual a nota desse influ?']\n",
        "        negative_notes = valid_data[valid_data['sentiment_score'] < 0.5]['Qual a nota desse influ?']\n",
        "\n",
        "        # Calcular estatísticas\n",
        "        avg_positive = positive_notes.mean() if not positive_notes.empty else None\n",
        "        avg_negative = negative_notes.mean() if not negative_notes.empty else None\n",
        "\n",
        "        print(\"📊 Comparação entre Notas e Sentimentos:\")\n",
        "        print(f\"✅ Média das notas para comentários positivos: {avg_positive:.2f}\" if avg_positive else \"Nenhuma nota positiva disponível.\")\n",
        "        print(f\"❌ Média das notas para comentários negativos: {avg_negative:.2f}\" if avg_negative else \"Nenhuma nota negativa disponível.\")\n",
        "    except Exception as e:\n",
        "        print(f\"❌ Erro durante a análise: {e}\")\n",
        "else:\n",
        "    print(\"⚠️ Certifique-se de que as colunas 'sentiment_score' e 'Qual a nota desse influ?' existam no dataset.\")\n"
      ]
    },
    {
      "cell_type": "markdown",
      "source": [
        "⚓ Outliers"
      ],
      "metadata": {
        "id": "81Nnh0dmEdgV"
      },
      "id": "81Nnh0dmEdgV"
    },
    {
      "cell_type": "code",
      "source": [
        "# Função para categorizar discrepâncias\n",
        "def categorize_discrepancy(row):\n",
        "    if row['sentiment_score'] < 0 and row['Qual a nota desse influ?'] >= 5:\n",
        "        return \"Alta nota, sentimento negativo\"\n",
        "    elif row['sentiment_score'] > 0 and row['Qual a nota desse influ?'] <= 3:\n",
        "        return \"Baixa nota, sentimento positivo\"\n",
        "    else:\n",
        "        return \"Consistente\"\n",
        "\n",
        "# Adicionar a categoria de discrepância\n",
        "outliers['discrepancy_category'] = outliers.apply(categorize_discrepancy, axis=1)\n",
        "\n",
        "# Selecionar as colunas relevantes para exibição\n",
        "outliers_table = outliers[['Como foi trabalhar com esse influ?',\n",
        "                           'Qual a nota desse influ?',\n",
        "                           'sentiment_score',\n",
        "                           'residual',\n",
        "                           'discrepancy_category']]\n",
        "\n",
        "# Exibir a tabela formatada diretamente no notebook\n",
        "from IPython.display import display\n",
        "print(\"📊 Discrepâncias Identificadas:\")\n",
        "display(outliers_table)\n"
      ],
      "metadata": {
        "id": "FYK8P5k8w2fE"
      },
      "id": "FYK8P5k8w2fE",
      "execution_count": null,
      "outputs": []
    },
    {
      "cell_type": "markdown",
      "source": [
        "# Melhores e piores comentários"
      ],
      "metadata": {
        "id": "EKtc8dK5tvLn"
      },
      "id": "EKtc8dK5tvLn"
    },
    {
      "cell_type": "code",
      "source": [
        "import pandas as pd\n",
        "\n",
        "# Selecionar os melhores comentários\n",
        "top_positive_comments = data[data['sentiment_score'] == 1].sort_values(\n",
        "    by='sentiment_confidence', ascending=False).head(5)\n",
        "\n",
        "# Selecionar os piores comentários\n",
        "top_negative_comments = data[data['sentiment_score'] == -1].sort_values(\n",
        "    by='sentiment_confidence', ascending=False).head(5)\n",
        "\n",
        "# Criar tabelas\n",
        "positive_table = top_positive_comments[['Como foi trabalhar com esse influ?', 'Qual a nota desse influ?', 'sentiment_confidence']].rename(\n",
        "    columns={\n",
        "        'Como foi trabalhar com esse influ?': 'Comentário',\n",
        "        'Qual a nota desse influ?': 'Nota',\n",
        "        'sentiment_confidence': 'Confiança do Sentimento'\n",
        "    }\n",
        ")\n",
        "\n",
        "negative_table = top_negative_comments[['Como foi trabalhar com esse influ?', 'Qual a nota desse influ?', 'sentiment_confidence']].rename(\n",
        "    columns={\n",
        "        'Como foi trabalhar com esse influ?': 'Comentário',\n",
        "        'Qual a nota desse influ?': 'Nota',\n",
        "        'sentiment_confidence': 'Confiança do Sentimento'\n",
        "    }\n",
        ")\n",
        "\n",
        "# Exibir tabelas\n",
        "print(\"🟢 Tabela dos Melhores Comentários:\")\n",
        "positive_table\n"
      ],
      "metadata": {
        "id": "QekB31CuuxFZ"
      },
      "id": "QekB31CuuxFZ",
      "execution_count": null,
      "outputs": []
    },
    {
      "cell_type": "code",
      "source": [
        "print(\"\\n🔴 Tabela dos Piores Comentários:\")\n",
        "negative_table"
      ],
      "metadata": {
        "id": "wm5ra9_wH7Dq"
      },
      "id": "wm5ra9_wH7Dq",
      "execution_count": null,
      "outputs": []
    },
    {
      "cell_type": "markdown",
      "id": "b2b433f4",
      "metadata": {
        "id": "b2b433f4"
      },
      "source": [
        "## Conclusões ✨\n",
        "\n",
        "Com base nas análises, destacamos os seguintes pontos:\n",
        "\n",
        "1. Principais categorias mais representativas.\n",
        "2. Tendências em sentimentos.\n",
        "3. Relações entre métricas importantes."
      ]
    }
  ],
  "metadata": {
    "colab": {
      "provenance": []
    },
    "language_info": {
      "name": "python"
    },
    "kernelspec": {
      "name": "python3",
      "display_name": "Python 3"
    }
  },
  "nbformat": 4,
  "nbformat_minor": 5
}